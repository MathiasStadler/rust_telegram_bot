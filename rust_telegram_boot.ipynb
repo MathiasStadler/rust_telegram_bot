{
 "cells": [
  {
   "cell_type": "markdown",
   "metadata": {},
   "source": [
    "[rust telegram robot] (https://dev.to/steadylearner/how-to-make-a-telegram-bot-with-rust-teloxide-m60)"
   ]
  }
 ],
 "metadata": {
  "kernelspec": {
   "display_name": "Bash",
   "language": "bash",
   "name": "bash"
  },
  "language_info": {
   "name": "bash"
  }
 },
 "nbformat": 4,
 "nbformat_minor": 2
}
