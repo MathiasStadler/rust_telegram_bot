{
 "cells": [
  {
   "cell_type": "markdown",
   "metadata": {},
   "source": [
    "# test out a rust telegram bot\n",
    "- receive msg from telegram\n",
    "- send msg to telegram \n"
   ]
  },
  {
   "cell_type": "markdown",
   "metadata": {},
   "source": [
    "[rust telegram robot ] (https://dev.to/steadylearner/how-to-make-a-telegram-bot-with-rust-teloxide-m60)"
   ]
  },
  {
   "cell_type": "markdown",
   "metadata": {},
   "source": [
    "### My tasks\n",
    "* [x] => [Another Cell](#another_cell)\n",
    "* [ ] install add one package"
   ]
  },
  {
   "cell_type": "markdown",
   "metadata": {},
   "source": [
    "<a id=\"project_init\">\n",
    "### init"
   ]
  },
  {
   "cell_type": "markdown",
   "metadata": {},
   "source": [
    "[Another Cell](#another_cell)"
   ]
  },
  {
   "cell_type": "markdown",
   "metadata": {},
   "source": [
    "<a id='another_cell'></a>\n",
    "## Hello  "
   ]
  },
  {
   "cell_type": "markdown",
   "metadata": {},
   "source": [
    "\n",
    "### My tasks\n",
    "- [ ] => [Another Cell](#another_cell)\n",
    "- [ ] install add one package\n"
   ]
  }
 ],
 "metadata": {
  "kernelspec": {
   "display_name": "Bash",
   "language": "bash",
   "name": "bash"
  },
  "language_info": {
   "name": "bash"
  }
 },
 "nbformat": 4,
 "nbformat_minor": 2
}
